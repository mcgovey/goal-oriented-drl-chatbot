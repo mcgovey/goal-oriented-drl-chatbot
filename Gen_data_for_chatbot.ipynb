{
 "cells": [
  {
   "cell_type": "markdown",
   "metadata": {},
   "source": [
    "# Generate data to be used for chatbot\n",
    "## Create dict of all possible values for a slot\n",
    "key is a slot and the values are a list of possible values"
   ]
  },
  {
   "cell_type": "code",
   "execution_count": 1,
   "metadata": {},
   "outputs": [],
   "source": [
    "import random\n",
    "import json\n",
    "import pickle"
   ]
  },
  {
   "cell_type": "code",
   "execution_count": 2,
   "metadata": {},
   "outputs": [],
   "source": [
    "# create all possible date, time, and numofpeople options\n",
    "\n",
    "date = ['today','tomorrow','Friday','friday','saturday','Saturday','the weekend','Friday the 5th','saturday the 6th','6/6','next weekend']\n",
    "time = ['7 PM', 'around 6', '7ish', '8ish', '8 PM', '6:30 pm', 'dinnertime', 'after 7', '6:45']\n",
    "numofpeople = ['2', '3', '4', '5', '6', '10', 'two', 'three', 'four', 'six', 'eight']\n",
    "numofkids = ['2', '1', '3', 'one', 'three', 'eight'] # only to be used as an inform"
   ]
  },
  {
   "cell_type": "code",
   "execution_count": 3,
   "metadata": {},
   "outputs": [],
   "source": [
    "# create all restaurant combinations\n",
    "restaurants = [\n",
    "{'city': 'New York','state': 'New York', 'zip': '10463', 'neighborhood': 'Bronx', 'name': 'Liebmans Deli', 'yelprating': '4'},\n",
    "{'city': 'New York','state': 'New York', 'zip': '10027', 'neighborhood': 'Harlem', 'name': 'Africa Kine', 'yelprating': '3.5'},\n",
    "{'city': 'New York','state': 'New York', 'zip': '10454', 'neighborhood': 'Bronx', 'name': 'La Morada', 'yelprating': '4.5'},\n",
    "{'city': 'New York','state': 'New York', 'zip': '11105', 'neighborhood': 'LIC', 'name': 'Gregorys 26 Corner Taverna', 'yelprating': '4.5', 'googlerating': '4.5'},\n",
    "{'city': 'New York','state': 'New York', 'zip': '10075', 'neighborhood': 'Upper East Side', 'name': 'Sushi Noz', 'yelprating': '4.5', 'googlerating': '4.6'},\n",
    "{'city': 'New York','state': 'New York', 'zip': '10021', 'neighborhood': 'Upper East Side', 'name': 'Flora Bar', 'googlerating': '4.5'},\n",
    "{'city': 'New York','state': 'New York', 'zip': '10019', 'neighborhood': 'Hells Kitchen', 'name': 'Le Bernardin', 'yelprating': '4.5', 'googlerating': '4.7'},\n",
    "{'city': 'New York','state': 'New York', 'zip': '11354', 'neighborhood': 'Flushing', 'name': 'Haidilao', 'yelprating': '4', 'googlerating': '4.5'},\n",
    "{'city': 'New York','state': 'New York', 'zip': '10018', 'neighborhood': 'Midtown', 'name': 'Farida', 'yelprating': '4', 'googlerating': '4.5'},\n",
    "{'city': 'New York','state': 'New York', 'zip': '10001', 'neighborhood': 'Hudson Yards', 'name': 'Momofuku Kawi', 'yelprating': '4', 'googlerating': '4.3'},\n",
    "{'city': 'New York','state': 'New York', 'zip': '11101', 'neighborhood': 'LIC', 'name': 'Adda Indian Canteen', 'yelprating': '4', 'googlerating': '4.4'},\n",
    "{'city': 'New York','state': 'New York', 'zip': '10016', 'neighborhood': 'Nomad', 'name': 'Atomix', 'yelprating': '4.5', 'googlerating': '4.8'},\n",
    "{'city': 'New York','state': 'New York', 'zip': '10011', 'neighborhood': 'Chelsea', 'name': 'Los Tacos No1', 'yelprating': '4.5'},\n",
    "{'city': 'New York','state': 'New York', 'zip': '10003', 'neighborhood': 'Flatiron', 'name': 'Rezdôra', 'googlerating': '4.6'},\n",
    "{'city': 'New York','state': 'New York', 'zip': '10011', 'neighborhood': 'West Village', 'name': 'EAK Ramen', 'yelprating': '4', 'googlerating': '4.4'}\n",
    "]"
   ]
  },
  {
   "cell_type": "code",
   "execution_count": 4,
   "metadata": {},
   "outputs": [],
   "source": [
    "res_dict = {\n",
    "    'city': [],\n",
    "    'state': [],\n",
    "    'zip': [],\n",
    "    'neighborhood': [],\n",
    "    'name': [],\n",
    "    'yelprating': [],\n",
    "    'googlerating': [],\n",
    "    'date': date,\n",
    "    'time': time,\n",
    "    'numofpeople': numofpeople,\n",
    "    'numofkids': numofkids\n",
    "}\n",
    "\n",
    "# add values for all restaurants\n",
    "for i in restaurants:\n",
    "    for key, val in i.items():\n",
    "        res_dict[key].append(val)\n",
    "\n",
    "# only keep unique values\n",
    "for i in res_dict:\n",
    "    res_dict[i] = list(set(res_dict[i]))"
   ]
  },
  {
   "cell_type": "markdown",
   "metadata": {},
   "source": [
    "Output the files to text and pickle"
   ]
  },
  {
   "cell_type": "code",
   "execution_count": 5,
   "metadata": {},
   "outputs": [],
   "source": [
    "outfilename = \"data/res_dict\"\n",
    "\n",
    "# write txt\n",
    "json.dump(res_dict, open(outfilename+\".txt\",'w'))\n",
    "\n",
    "# write pickle\n",
    "outfile = open(outfilename+\".pkl\",'wb')\n",
    "\n",
    "pickle.dump(res_dict,outfile)\n",
    "outfile.close()\n",
    "\n",
    "# read pickle\n",
    "# pickle.load(open(outfilename+\".pkl\", 'rb'))"
   ]
  },
  {
   "cell_type": "markdown",
   "metadata": {},
   "source": [
    "## Create db of different slots for a reservation using dict\n",
    "index is key of reservation and values are dicts of restaurant info for that particular slot"
   ]
  },
  {
   "cell_type": "code",
   "execution_count": 6,
   "metadata": {},
   "outputs": [],
   "source": [
    "res_db = {}\n",
    "random.seed(100)\n",
    "\n",
    "for i in range(1000):\n",
    "    indvl_dict = {\n",
    "        **random.choice(restaurants), \n",
    "        'date': random.choice(date), \n",
    "        'time': random.choice(time), \n",
    "        'numofpeople': random.choice(numofpeople)\n",
    "    }\n",
    "    res_db[i] = indvl_dict"
   ]
  },
  {
   "cell_type": "markdown",
   "metadata": {},
   "source": [
    "Output to text and pickle"
   ]
  },
  {
   "cell_type": "code",
   "execution_count": 7,
   "metadata": {},
   "outputs": [],
   "source": [
    "outfilename = \"data/res_db\"\n",
    "\n",
    "# write txt\n",
    "json.dump(res_db, open(outfilename+\".txt\",'w'))\n",
    "\n",
    "# write pickle\n",
    "outfile = open(outfilename+\".pkl\",'wb')\n",
    "\n",
    "pickle.dump(res_db,outfile)\n",
    "outfile.close()\n",
    "\n",
    "# read pickle\n",
    "# pickle.load(open(outfilename+\".pkl\", 'rb'))"
   ]
  },
  {
   "cell_type": "markdown",
   "metadata": {},
   "source": [
    "## Create Goal List\n",
    "dict of goals of a particular user"
   ]
  },
  {
   "cell_type": "code",
   "execution_count": 8,
   "metadata": {},
   "outputs": [],
   "source": [
    "res_user_goals = []\n",
    "random.seed(100)\n",
    "\n",
    "date_subset = date = ['today','tomorrow','Friday']\n",
    "time_subset = ['7 PM', '8ish','6:30 pm']\n",
    "numofpeople_subset = ['2', '3', '4', '6']\n",
    "\n",
    "for i in range(110):\n",
    "    rest_selection = random.choice(restaurants)\n",
    "    indvl_user_goal = {'request_slots': {},\n",
    "                       'diaact':'request',\n",
    "                       'inform_slots':{\n",
    "                           'city': rest_selection['city'],\n",
    "                           'neighborhood': rest_selection['neighborhood'],\n",
    "                           'name': rest_selection['name']   \n",
    "                       }\n",
    "                      }\n",
    "    \n",
    "    if random.random()<0.8:\n",
    "        indvl_user_goal['inform_slots']['date'] = random.choice(date_subset)\n",
    "        if random.random()<0.8:\n",
    "            indvl_user_goal['inform_slots']['time'] = random.choice(time_subset)\n",
    "        else:\n",
    "            indvl_user_goal['request_slots']['time'] = 'UNK'\n",
    "    else:\n",
    "        indvl_user_goal['request_slots']['date'] = 'UNK'\n",
    "        indvl_user_goal['request_slots']['time'] = 'UNK'\n",
    "        \n",
    "    \n",
    "    if random.random()<0.8:\n",
    "        indvl_user_goal['inform_slots']['numofpeople'] = random.choice(numofpeople_subset)\n",
    "    else:\n",
    "        indvl_user_goal['request_slots']['numofpeople'] = 'UNK'\n",
    "    \n",
    "    res_user_goals.append(indvl_user_goal)"
   ]
  },
  {
   "cell_type": "markdown",
   "metadata": {},
   "source": [
    "Output to text and pickle"
   ]
  },
  {
   "cell_type": "code",
   "execution_count": 10,
   "metadata": {},
   "outputs": [],
   "source": [
    "with open('data/res_user_goals.txt', 'w') as filehandle:\n",
    "    for listitem in res_user_goals:\n",
    "        filehandle.write('%s\\n' % listitem)"
   ]
  },
  {
   "cell_type": "code",
   "execution_count": 11,
   "metadata": {},
   "outputs": [],
   "source": [
    "outfilename = \"data/res_user_goals\"\n",
    "\n",
    "# write pickle\n",
    "outfile = open(outfilename+\".pkl\",'wb')\n",
    "\n",
    "pickle.dump(res_user_goals,outfile)\n",
    "outfile.close()\n",
    "\n",
    "# read pickle file\n",
    "# pickle.load(open(outfilename+\".pkl\", 'rb'))"
   ]
  }
 ],
 "metadata": {
  "kernelspec": {
   "display_name": "Python (tf-gpu)",
   "language": "python",
   "name": "tf-gpu"
  },
  "language_info": {
   "codemirror_mode": {
    "name": "ipython",
    "version": 3
   },
   "file_extension": ".py",
   "mimetype": "text/x-python",
   "name": "python",
   "nbconvert_exporter": "python",
   "pygments_lexer": "ipython3",
   "version": "3.7.5"
  }
 },
 "nbformat": 4,
 "nbformat_minor": 4
}
